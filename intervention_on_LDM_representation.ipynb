{
 "cells": [
  {
   "cell_type": "markdown",
   "id": "1c11c0cb-8b57-440c-b742-42edc463c23b",
   "metadata": {},
   "source": [
    "# Intervening the Saliency and Depth Representation of LDM\n",
    "\n",
    "The intervention experiment requires the probing dataset and model weights for probing classifiers/regressors.\n",
    "\n",
    "Please run every cells in the [run_probing_experiments.ipynb](run_probing_experiments.ipynb), and cells **1** and **2** in [run_probing_experiments.ipynb](run_probing_experiments.ipynb) before running this experiment."
   ]
  },
  {
   "cell_type": "markdown",
   "id": "07714326-2bbd-4f02-9672-5f01efe28e92",
   "metadata": {},
   "source": [
    "## 1. Intervening the Saliency (foreground) Representation\n",
    "\n",
    "The outputs of intervention will be saved in the directory [intervention_on_saliency_results/](intervention_on_saliency_results/). The modified labels used in the intervention can be found in its `modified_target` sub-directory, and the intervened output can be found in the `modified_output` directory. `figures` sub-directory contains plot that contrast the pre and post-intervention output for qualitative evaluation."
   ]
  },
  {
   "cell_type": "code",
   "execution_count": null,
   "id": "eae620f4-ddd5-4101-bba2-bda0ea89f2b5",
   "metadata": {},
   "outputs": [],
   "source": [
    "%%sh\n",
    "\n",
    "python intervention_binary_depth.py --output_dir \"intervention_on_saliency_results/\""
   ]
  },
  {
   "cell_type": "markdown",
   "id": "9f96a37d-3f42-41be-8921-8bb125a0e479",
   "metadata": {},
   "source": [
    "## 2. Intervening the Depth Representation\n",
    "\n",
    "Similar to the intervention on saliency, the outputs of intervention will be saved in the directory [intervention_on_depth_results/](intervention_on_depth_results/). There will be three sub-directories for modified labels, intervened outputs, and visualizations."
   ]
  },
  {
   "cell_type": "code",
   "execution_count": null,
   "id": "47a3c84f-fc5f-47ae-97b1-62ae5903ba7c",
   "metadata": {},
   "outputs": [],
   "source": [
    "%%sh\n",
    "\n",
    "python intervention_continuous_depth.py --output_dir \"intervention_on_depth_results/\""
   ]
  },
  {
   "cell_type": "code",
   "execution_count": null,
   "id": "5f4c6729-2b8e-49dd-9dc8-b01a43aa6577",
   "metadata": {},
   "outputs": [],
   "source": []
  }
 ],
 "metadata": {
  "kernelspec": {
   "display_name": "Python [conda env:.conda-diffusion-viz-gpu]",
   "language": "python",
   "name": "conda-env-.conda-diffusion-viz-gpu-py"
  },
  "language_info": {
   "codemirror_mode": {
    "name": "ipython",
    "version": 3
   },
   "file_extension": ".py",
   "mimetype": "text/x-python",
   "name": "python",
   "nbconvert_exporter": "python",
   "pygments_lexer": "ipython3",
   "version": "3.9.13"
  }
 },
 "nbformat": 4,
 "nbformat_minor": 5
}
